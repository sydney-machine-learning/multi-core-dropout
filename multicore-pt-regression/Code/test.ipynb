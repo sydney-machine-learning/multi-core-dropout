import numpy as np

z1 = X.dot(W1)

sigma1 = input_dropout * (1 - input_dropout)
input_dropout_mask = np.random.normal(1, sigma1, z1.shape)
z1  = z1 * input_dropout_mask

hidout = 1 / (1 + np.exp(-z1))  # output of first hidden layer

z2 = hidout.dot(W2)
sigma2 = hidden_dropout * (1 - hidden_dropout)
hidden_dropout_mask = np.random.normal(1, sigma2, z2.shape)
z2 = z2 * hidden_dropout_mask
out = 1 / (1 + np.exp(-z2))